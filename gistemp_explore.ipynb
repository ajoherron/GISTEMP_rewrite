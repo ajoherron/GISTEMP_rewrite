{
 "cells": [
  {
   "cell_type": "markdown",
   "id": "4979e953-e38f-4ed7-9e49-2c33d44f96bf",
   "metadata": {},
   "source": [
    "# GISTEMP Public-facing notebook task"
   ]
  },
  {
   "cell_type": "markdown",
   "id": "948a246b-6ed5-4af6-8fc0-5fc4f5c138ce",
   "metadata": {},
   "source": [
    "## To do:  \n",
    "- Write a brief Intro to GISTEMP and background blurb. You can use language from the site, but be sure to make it concise   \n",
    "- Make the notebook visually appealing, with markdown cells explaining the data and walking the user through the notebook  \n",
    "- Make a map of the temperature anomalies of the latest month in the dataset using [Xarray](https://docs.xarray.dev/en/stable/) and [Cartopy](https://scitools.org.uk/cartopy/docs/latest/)  \n",
    "    - Use a diverging [colormap](https://matplotlib.org) that is [descriptive of the data](https://www.kennethmoreland.com/color-advice/) and [accessible](https://www.cta-observatory.org/wp-content/uploads/2020/10/CTA_ColourBlindness_BestPractices-1.pdf)  \n",
    "- Make a timeseries line plot of global average temperature anomalies must ([area-weight](https://docs.xarray.dev/en/latest/examples/area_weighted_temperature.html)) results if averaging yourself  \n",
    "- Make two animations:  \n",
    "    1. Timeseries line plot of globally-averaged temp\n",
    "    2. Maps of monthly anomalies  \n",
    "- Come up with two more different visualizations. Please search the internet for interesting ways to visualize surface temperature changes or create your own!"
   ]
  },
  {
   "cell_type": "markdown",
   "id": "13e00801-2a8a-496e-ad65-4dc322cdbaee",
   "metadata": {},
   "source": [
    "### Resources  \n",
    "[Markdown tutorial](https://www.datacamp.com/tutorial/markdown-in-jupyter-notebook)  \n",
    "- tip: you must double space after a line if you want to create a new line  \n",
    "\n",
    "[Cartopy](https://scitools.org.uk/cartopy/docs/latest/)  \n",
    "[Xarray](https://docs.xarray.dev/en/stable/)  \n",
    "[Datashader](https://datashader.org)"
   ]
  }
 ],
 "metadata": {
  "kernelspec": {
   "display_name": "Python 3 (ipykernel)",
   "language": "python",
   "name": "python3"
  },
  "language_info": {
   "codemirror_mode": {
    "name": "ipython",
    "version": 3
   },
   "file_extension": ".py",
   "mimetype": "text/x-python",
   "name": "python",
   "nbconvert_exporter": "python",
   "pygments_lexer": "ipython3",
   "version": "3.8.16"
  }
 },
 "nbformat": 4,
 "nbformat_minor": 5
}
